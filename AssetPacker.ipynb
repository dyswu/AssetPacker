{
 "cells": [
  {
   "cell_type": "code",
   "execution_count": 324,
   "id": "7c5def16-7f97-4ce6-a40f-1590ebb0fb42",
   "metadata": {},
   "outputs": [],
   "source": [
    "from tkinter.filedialog import askopenfilename\n",
    "from tkinter.filedialog import askdirectory\n",
    "import pandas as pd\n",
    "import numpy as np\n",
    "from datetime import datetime\n",
    "import hashlib\n",
    "from checksumdir import dirhash"
   ]
  },
  {
   "cell_type": "code",
   "execution_count": 117,
   "id": "719dd66e-356e-4e0d-bb96-87007edddad0",
   "metadata": {},
   "outputs": [],
   "source": [
    "import warnings\n",
    "warnings.filterwarnings('ignore',category=pd.io.pytables.PerformanceWarning)"
   ]
  },
  {
   "cell_type": "markdown",
   "id": "432fcc01-2589-4f4a-a115-89d6bc4b272e",
   "metadata": {},
   "source": [
    "<Details>\n",
    "    <summary> DB Schemas </summary>\n",
    "\n",
    "    \n",
    "    # File Schema:\n",
    "    *Key = checksum value of file\n",
    "    *Path = Expected file path\n",
    "    *Date = Date file added\n",
    "    *Prev = Previous file key\n",
    "    *Next = Next file key\n",
    "    *Desc = Description of use of file\n",
    "    *Change = Changes from previous version\n",
    "    \n",
    "    #Tags Schema:\n",
    "    *Name = Tag name\n",
    "    *Parents = List of parent tags\n",
    "    *Child = list of child tags\n",
    "    \n",
    "    #Package Schema:\n",
    "    *Package = Name of package\n",
    "    *Path = File path for file\n",
    "    *Name = Name of file\n",
    "    *Latest = Checksum value of latest version\n",
    "    \n",
    "</Details>"
   ]
  },
  {
   "cell_type": "code",
   "execution_count": 93,
   "id": "667cd1cd-8478-4397-bcdd-8edcceab7c61",
   "metadata": {},
   "outputs": [],
   "source": [
    "file_columns = [\"Key\", \"Path\", \"Date\", \"Desc\", \"Next\", \"Prev\", 'Change']\n",
    "tag_columns = [\"Name\", \"Parent\", \"Child\", \"List of Files\"]\n",
    "package_columns = ['Package', 'Path', 'Name', 'Latest']"
   ]
  },
  {
   "cell_type": "code",
   "execution_count": 377,
   "id": "a606dedc-60a0-48c7-aa9f-289a28528218",
   "metadata": {},
   "outputs": [],
   "source": [
    "fileName = \"test.h5\"\n",
    "file_df = pd.DataFrame(columns = file_columns)\n",
    "tag_df = pd.DataFrame(columns = tag_columns)\n",
    "package_df = pd.DataFrame(columns = package_columns)"
   ]
  },
  {
   "cell_type": "code",
   "execution_count": 149,
   "id": "66c8094a-70fb-4e73-82df-eeff51ce0e64",
   "metadata": {},
   "outputs": [],
   "source": [
    "save_path = askdirectory()\n",
    "save_path = save_path + \"/\" + fileName"
   ]
  },
  {
   "cell_type": "code",
   "execution_count": 306,
   "id": "0faa1b7a-10d8-4334-8300-05053dc75c91",
   "metadata": {},
   "outputs": [
    {
     "name": "stdout",
     "output_type": "stream",
     "text": [
      "Load data\n"
     ]
    }
   ],
   "source": [
    "file_df, tag_df, package_df = loadData()"
   ]
  },
  {
   "cell_type": "code",
   "execution_count": 383,
   "id": "1859f975-cf1c-489f-8498-59f13b480711",
   "metadata": {},
   "outputs": [
    {
     "name": "stdout",
     "output_type": "stream",
     "text": [
      "File already exists\n"
     ]
    }
   ],
   "source": [
    "newFile('test', askopenfilename())"
   ]
  },
  {
   "cell_type": "code",
   "execution_count": 381,
   "id": "4440ee0a-706f-4ad6-8d35-975b400cf41f",
   "metadata": {},
   "outputs": [],
   "source": [
    "#Add file to database\n",
    "def newFile(desc, path):\n",
    "    key = md5(path)\n",
    "    if (not checkFile(path)):\n",
    "        #Add new file\n",
    "        file_df.loc[len(file_df)] = [key, path, datetime.today().strftime('%Y-%m-%d'), desc, None, 'N/A', 'File Created']\n",
    "        if (desc in file_df[\"desc\"].values):\n",
    "            #Prompt to update if file is repeated\n",
    "            print(\"Similar file found, replace?\")\n",
    "            #TODO add new value with prev value and update old entry's next value\n",
    "        saveData(save_path)\n",
    "    else:\n",
    "        print(\"File already exists\")"
   ]
  },
  {
   "cell_type": "code",
   "execution_count": 387,
   "id": "7679de24-607c-4457-91af-c9987dae4291",
   "metadata": {},
   "outputs": [],
   "source": [
    "updateFile(askopenfilename(), md5(\"C:/Users/derew/PackageManager/button_clicked.png\"), 'updated legal text')"
   ]
  },
  {
   "cell_type": "code",
   "execution_count": 389,
   "id": "95fd7b55-9c47-44e2-8b60-291d0fbe7009",
   "metadata": {},
   "outputs": [
    {
     "data": {
      "text/html": [
       "<div>\n",
       "<style scoped>\n",
       "    .dataframe tbody tr th:only-of-type {\n",
       "        vertical-align: middle;\n",
       "    }\n",
       "\n",
       "    .dataframe tbody tr th {\n",
       "        vertical-align: top;\n",
       "    }\n",
       "\n",
       "    .dataframe thead th {\n",
       "        text-align: right;\n",
       "    }\n",
       "</style>\n",
       "<table border=\"1\" class=\"dataframe\">\n",
       "  <thead>\n",
       "    <tr style=\"text-align: right;\">\n",
       "      <th></th>\n",
       "      <th>Key</th>\n",
       "      <th>Path</th>\n",
       "      <th>Date</th>\n",
       "      <th>Desc</th>\n",
       "      <th>Next</th>\n",
       "      <th>Prev</th>\n",
       "      <th>Change</th>\n",
       "    </tr>\n",
       "  </thead>\n",
       "  <tbody>\n",
       "    <tr>\n",
       "      <th>0</th>\n",
       "      <td>8c15bb0116ebc79eafe8c664db282efa</td>\n",
       "      <td>C:/Users/derew/PackageManager/button_clicked.png</td>\n",
       "      <td>2024-06-20</td>\n",
       "      <td>test</td>\n",
       "      <td>f031ea32333d8c8477ff11b956de86e1</td>\n",
       "      <td>N/A</td>\n",
       "      <td>change</td>\n",
       "    </tr>\n",
       "    <tr>\n",
       "      <th>1</th>\n",
       "      <td>f031ea32333d8c8477ff11b956de86e1</td>\n",
       "      <td>C:/Users/derew/PackageManager/Data/test</td>\n",
       "      <td>2024-06-20</td>\n",
       "      <td>test</td>\n",
       "      <td>None</td>\n",
       "      <td>8c15bb0116ebc79eafe8c664db282efa</td>\n",
       "      <td>updated legal text</td>\n",
       "    </tr>\n",
       "  </tbody>\n",
       "</table>\n",
       "</div>"
      ],
      "text/plain": [
       "                                Key  \\\n",
       "0  8c15bb0116ebc79eafe8c664db282efa   \n",
       "1  f031ea32333d8c8477ff11b956de86e1   \n",
       "\n",
       "                                               Path        Date  Desc  \\\n",
       "0  C:/Users/derew/PackageManager/button_clicked.png  2024-06-20  test   \n",
       "1           C:/Users/derew/PackageManager/Data/test  2024-06-20  test   \n",
       "\n",
       "                               Next                              Prev  \\\n",
       "0  f031ea32333d8c8477ff11b956de86e1                               N/A   \n",
       "1                              None  8c15bb0116ebc79eafe8c664db282efa   \n",
       "\n",
       "               Change  \n",
       "0              change  \n",
       "1  updated legal text  "
      ]
     },
     "execution_count": 389,
     "metadata": {},
     "output_type": "execute_result"
    }
   ],
   "source": [
    "file_df"
   ]
  },
  {
   "cell_type": "code",
   "execution_count": 369,
   "id": "8ddcfdb8-8426-447a-8a6e-13a0f2d3aca7",
   "metadata": {},
   "outputs": [],
   "source": [
    "#Update existing file in db\n",
    "def updateFile(path, prevkey, changes):\n",
    "    key = md5(path)\n",
    "    if (not checkFile):\n",
    "        print(\"file already exists\")\n",
    "    else:\n",
    "        #Add new file linking previous entry\n",
    "        prevdesc = file_df[file_df['Key'] == prevkey][\"Desc\"][0]\n",
    "        file_df.loc[len(file_df)] = [key, path, datetime.today().strftime('%Y-%m-%d'), prevdesc, None, prevkey, changes]\n",
    "        #update old value\n",
    "        old_row = file_df.loc[file_df[\"Key\"] == prevkey].index[0]\n",
    "        file_df.loc[old_row, \"Next\"] = key"
   ]
  },
  {
   "cell_type": "code",
   "execution_count": 12,
   "id": "f71bc7d3-c7d2-4044-aab6-6a979d586231",
   "metadata": {},
   "outputs": [],
   "source": [
    "#Get hash value of file\n",
    "def md5(file_name):\n",
    "    m = hashlib.md5()\n",
    "    with open(file_name, \"rb\") as f:\n",
    "        for chunk in iter(lambda: f.read(4096), b\"\"):\n",
    "            m.update(chunk)\n",
    "        return m.hexdigest()"
   ]
  },
  {
   "cell_type": "code",
   "execution_count": 300,
   "id": "56e49c2f-2ba5-46a0-b8c6-c3d685a92ded",
   "metadata": {},
   "outputs": [],
   "source": [
    "def compareFolder(path1, path2):\n",
    "    return dirhash(path1, 'md5') == dirhash(path2, 'md5')"
   ]
  },
  {
   "cell_type": "code",
   "execution_count": 304,
   "id": "dddb6504-f898-49ee-9eed-8d9a5a09ff20",
   "metadata": {},
   "outputs": [
    {
     "data": {
      "text/plain": [
       "True"
      ]
     },
     "execution_count": 304,
     "metadata": {},
     "output_type": "execute_result"
    }
   ],
   "source": [
    "compareFolder('C:/Users/derew/PackageManager/Data', 'C:/Users/derew/PackageManager/Data2')"
   ]
  },
  {
   "cell_type": "code",
   "execution_count": 314,
   "id": "be3977ec-c844-4f25-bfec-bf48a2875824",
   "metadata": {},
   "outputs": [],
   "source": [
    "#Check to see if file already exists in database or not    \n",
    "def checkFile(path):\n",
    "    key = md5(path)\n",
    "    return (key in file_df[\"Key\"].values)"
   ]
  },
  {
   "cell_type": "code",
   "execution_count": 276,
   "id": "40e4fd29-7160-4cbd-9c8d-4d7d269a60a3",
   "metadata": {},
   "outputs": [
    {
     "data": {
      "text/html": [
       "<div>\n",
       "<style scoped>\n",
       "    .dataframe tbody tr th:only-of-type {\n",
       "        vertical-align: middle;\n",
       "    }\n",
       "\n",
       "    .dataframe tbody tr th {\n",
       "        vertical-align: top;\n",
       "    }\n",
       "\n",
       "    .dataframe thead th {\n",
       "        text-align: right;\n",
       "    }\n",
       "</style>\n",
       "<table border=\"1\" class=\"dataframe\">\n",
       "  <thead>\n",
       "    <tr style=\"text-align: right;\">\n",
       "      <th></th>\n",
       "      <th>Key</th>\n",
       "      <th>Path</th>\n",
       "      <th>Date</th>\n",
       "      <th>Desc</th>\n",
       "      <th>Next</th>\n",
       "      <th>Prev</th>\n",
       "      <th>Change</th>\n",
       "    </tr>\n",
       "  </thead>\n",
       "  <tbody>\n",
       "    <tr>\n",
       "      <th>0</th>\n",
       "      <td>8c15bb0116ebc79eafe8c664db282efa</td>\n",
       "      <td>C:/Users/derew/PackageManager/button_clicked.png</td>\n",
       "      <td>2024-06-20</td>\n",
       "      <td>test</td>\n",
       "      <td>None</td>\n",
       "      <td>N/A</td>\n",
       "      <td>change</td>\n",
       "    </tr>\n",
       "  </tbody>\n",
       "</table>\n",
       "</div>"
      ],
      "text/plain": [
       "                                Key  \\\n",
       "0  8c15bb0116ebc79eafe8c664db282efa   \n",
       "\n",
       "                                               Path        Date  Desc  Next  \\\n",
       "0  C:/Users/derew/PackageManager/button_clicked.png  2024-06-20  test  None   \n",
       "\n",
       "  Prev  Change  \n",
       "0  N/A  change  "
      ]
     },
     "execution_count": 276,
     "metadata": {},
     "output_type": "execute_result"
    }
   ],
   "source": [
    "#Create folders\n",
    "file_df"
   ]
  },
  {
   "cell_type": "code",
   "execution_count": 20,
   "id": "a40bd3cb-759d-48fb-b292-d08f8ea2100b",
   "metadata": {},
   "outputs": [],
   "source": [
    "#Add file to DB\n",
    "def addFile():\n",
    "    print(\"select file to add\")\n",
    "    path = askopenfilename()\n",
    "    file_name = path.split(\"/\")[-1]\n",
    "    key = (md5(path))\n",
    "    #TODO Check existing file\n",
    "    #If yes -> file preview, ELSE\n",
    "    #TODO Ask for tags\n",
    "    #Add to existing project -> File name (new or updated)\n",
    "    #Get date\n",
    "    #If update -> get old id, set old next to key\n",
    "    #Save changes in db\n",
    "    saveData()"
   ]
  },
  {
   "cell_type": "code",
   "execution_count": 22,
   "id": "232e0f66-d0ca-410f-b5f1-b388ade8e781",
   "metadata": {},
   "outputs": [],
   "source": [
    "def resetData():\n",
    "    file_df = pd.DataFrame(Data = None, index = file_columns)\n",
    "    tag_df = pd.DataFrame(Data = None, index = tag_columns)\n",
    "    package_df = pd.DataFrame(Data = None, index = package_columns)\n",
    "    fileName = \"\""
   ]
  },
  {
   "cell_type": "code",
   "execution_count": 123,
   "id": "5590621f-df95-4dd5-b2e4-eff87a3f4e3e",
   "metadata": {},
   "outputs": [],
   "source": [
    "#Load file from existing file\n",
    "def loadData():\n",
    "    #TODO Verify with test data\n",
    "    print(\"Load data\")\n",
    "    fileName = path.split(\"/\")[-1]\n",
    "    file_df = pd.read_hdf(path, key=\"files\", append = True)\n",
    "    tag_df = pd.read_hdf(path, key=\"tags\", append = True)\n",
    "    package_df = pd.read_hdf(path, key='packages', append = True)\n",
    "    \n",
    "    return file_df, tag_df, package_df"
   ]
  },
  {
   "cell_type": "code",
   "execution_count": 154,
   "id": "956f6530-ee28-40f9-b833-fa423d5386a1",
   "metadata": {},
   "outputs": [],
   "source": [
    "#Save data to file\n",
    "def saveData(save_path):\n",
    "    print(\"Saving data\")\n",
    "    file_df.to_hdf(save_path, key = 'files', mode='a', complib='zlib', complevel=5)\n",
    "    tag_df.to_hdf(save_path, key = 'tags', mode='a', complib='zlib', complevel=5)\n",
    "    package_df.to_hdf(save_path, key = 'packages', mode='a', complib='zlib', complevel=5)\n",
    "    print(\"Data Saved\")"
   ]
  }
 ],
 "metadata": {
  "kernelspec": {
   "display_name": "Python 3 (ipykernel)",
   "language": "python",
   "name": "python3"
  },
  "language_info": {
   "codemirror_mode": {
    "name": "ipython",
    "version": 3
   },
   "file_extension": ".py",
   "mimetype": "text/x-python",
   "name": "python",
   "nbconvert_exporter": "python",
   "pygments_lexer": "ipython3",
   "version": "3.11.9"
  }
 },
 "nbformat": 4,
 "nbformat_minor": 5
}
