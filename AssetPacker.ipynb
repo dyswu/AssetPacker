{
 "cells": [
  {
   "cell_type": "code",
   "execution_count": 145,
   "id": "7c5def16-7f97-4ce6-a40f-1590ebb0fb42",
   "metadata": {},
   "outputs": [],
   "source": [
    "from tkinter.filedialog import askopenfilename\n",
    "from tkinter.filedialog import askdirectory\n",
    "import pandas as pd\n",
    "from datetime import datetime\n",
    "import hashlib\n",
    "from checksumdir import dirhash"
   ]
  },
  {
   "cell_type": "code",
   "execution_count": 117,
   "id": "719dd66e-356e-4e0d-bb96-87007edddad0",
   "metadata": {},
   "outputs": [],
   "source": [
    "import warnings\n",
    "warnings.filterwarnings('ignore',category=pd.io.pytables.PerformanceWarning)"
   ]
  },
  {
   "cell_type": "markdown",
   "id": "432fcc01-2589-4f4a-a115-89d6bc4b272e",
   "metadata": {},
   "source": [
    "<Details>\n",
    "    <summary> DB Schemas </summary>\n",
    "\n",
    "    \n",
    "    # File Schema:\n",
    "    *Key = checksum value of file\n",
    "    *Path = Expected file path\n",
    "    *Date = Date file added\n",
    "    *Prev = Previous file key\n",
    "    *Next = Next file key\n",
    "    *Desc = Description of use of file\n",
    "    *Change = Changes from previous version\n",
    "    \n",
    "    #Tags Schema:\n",
    "    *Name = Tag name\n",
    "    *Parents = List of parent tags\n",
    "    *Child = list of child tags\n",
    "    \n",
    "    #Package Schema:\n",
    "    *Package = Name of package\n",
    "    *Path = File path for file\n",
    "    *Name = Name of file\n",
    "    *Latest = Checksum value of latest version\n",
    "    \n",
    "</Details>"
   ]
  },
  {
   "cell_type": "code",
   "execution_count": 93,
   "id": "667cd1cd-8478-4397-bcdd-8edcceab7c61",
   "metadata": {},
   "outputs": [],
   "source": [
    "file_columns = [\"Key\", \"Path\", \"Date\", \"Desc\", \"Next\", \"Prev\", 'Change']\n",
    "tag_columns = [\"Name\", \"Parent\", \"Child\", \"List of Files\"]\n",
    "package_columns = ['Package', 'Path', 'Name', 'Latest']"
   ]
  },
  {
   "cell_type": "code",
   "execution_count": 147,
   "id": "a606dedc-60a0-48c7-aa9f-289a28528218",
   "metadata": {},
   "outputs": [],
   "source": [
    "fileName = \"test.h5\"\n",
    "file_df = pd.DataFrame(columns = file_columns)\n",
    "tag_df = pd.DataFrame(columns = tag_columns)\n",
    "package_df = pd.DataFrame(columns = package_columns)"
   ]
  },
  {
   "cell_type": "code",
   "execution_count": 149,
   "id": "66c8094a-70fb-4e73-82df-eeff51ce0e64",
   "metadata": {},
   "outputs": [],
   "source": [
    "save_path = askdirectory()\n",
    "save_path = save_path + \"/\" + fileName"
   ]
  },
  {
   "cell_type": "code",
   "execution_count": 150,
   "id": "0faa1b7a-10d8-4334-8300-05053dc75c91",
   "metadata": {},
   "outputs": [
    {
     "ename": "TypeError",
     "evalue": "loadData() takes 0 positional arguments but 1 was given",
     "output_type": "error",
     "traceback": [
      "\u001b[1;31m---------------------------------------------------------------------------\u001b[0m",
      "\u001b[1;31mTypeError\u001b[0m                                 Traceback (most recent call last)",
      "Cell \u001b[1;32mIn[150], line 1\u001b[0m\n\u001b[1;32m----> 1\u001b[0m file_df, tag_df, package_df \u001b[38;5;241m=\u001b[39m loadData(askopenfilename())\n",
      "\u001b[1;31mTypeError\u001b[0m: loadData() takes 0 positional arguments but 1 was given"
     ]
    }
   ],
   "source": [
    "file_df, tag_df, package_df = loadData(askopenfilename())"
   ]
  },
  {
   "cell_type": "code",
   "execution_count": 160,
   "id": "1859f975-cf1c-489f-8498-59f13b480711",
   "metadata": {},
   "outputs": [
    {
     "name": "stdout",
     "output_type": "stream",
     "text": [
      "Saving data\n",
      "Data Saved\n"
     ]
    }
   ],
   "source": [
    "newFile('test')"
   ]
  },
  {
   "cell_type": "code",
   "execution_count": 158,
   "id": "4440ee0a-706f-4ad6-8d35-975b400cf41f",
   "metadata": {},
   "outputs": [],
   "source": [
    "#Add file to database\n",
    "def newFile(desc):\n",
    "    path = askopenfilename()\n",
    "    key = md5(path)\n",
    "    if (key not in file_df.index):\n",
    "        #update file\n",
    "        file_df.loc[len(file_df)] = [key, path, datetime.today().strftime('%Y-%m-%d'), desc, None, 'N/A', 'change']\n",
    "        saveData(save_path)\n",
    "    else:\n",
    "        print(\"File already exists\")\n"
   ]
  },
  {
   "cell_type": "code",
   "execution_count": 12,
   "id": "f71bc7d3-c7d2-4044-aab6-6a979d586231",
   "metadata": {},
   "outputs": [],
   "source": [
    "#Get hash value of file\n",
    "def md5(file_name):\n",
    "    m = hashlib.md5()\n",
    "    with open(file_name, \"rb\") as f:\n",
    "        for chunk in iter(lambda: f.read(4096), b\"\"):\n",
    "            m.update(chunk)\n",
    "        return m.hexdigest()"
   ]
  },
  {
   "cell_type": "code",
   "execution_count": 37,
   "id": "3223be1c-2e37-4a41-99f1-53aa3bdd86ad",
   "metadata": {},
   "outputs": [],
   "source": [
    "def hashFolder(file_path):\n",
    "    return dirhash(file_path, md5)"
   ]
  },
  {
   "cell_type": "code",
   "execution_count": 16,
   "id": "be3977ec-c844-4f25-bfec-bf48a2875824",
   "metadata": {},
   "outputs": [],
   "source": [
    "#Check to see if file already exists in database or not    \n",
    "def checkFile(file):\n",
    "    #TODO\n",
    "    print(\"check file\") "
   ]
  },
  {
   "cell_type": "code",
   "execution_count": 18,
   "id": "40e4fd29-7160-4cbd-9c8d-4d7d269a60a3",
   "metadata": {},
   "outputs": [],
   "source": [
    "#Create folders\n",
    "\n"
   ]
  },
  {
   "cell_type": "code",
   "execution_count": 20,
   "id": "a40bd3cb-759d-48fb-b292-d08f8ea2100b",
   "metadata": {},
   "outputs": [],
   "source": [
    "#Add file to DB\n",
    "def addFile():\n",
    "    print(\"select file to add\")\n",
    "    path = askopenfilename()\n",
    "    file_name = path.split(\"/\")[-1]\n",
    "    key = (md5(path))\n",
    "    #TODO Check existing file\n",
    "    #If yes -> file preview, ELSE\n",
    "    #TODO Ask for tags\n",
    "    #Add to existing project -> File name (new or updated)\n",
    "    #Get date\n",
    "    #If update -> get old id, set old next to key\n",
    "    #Save changes in db\n",
    "    saveData()"
   ]
  },
  {
   "cell_type": "code",
   "execution_count": 22,
   "id": "232e0f66-d0ca-410f-b5f1-b388ade8e781",
   "metadata": {},
   "outputs": [],
   "source": [
    "def resetData():\n",
    "    file_df = pd.DataFrame(Data = None, index = file_columns)\n",
    "    tag_df = pd.DataFrame(Data = None, index = tag_columns)\n",
    "    package_df = pd.DataFrame(Data = None, index = package_columns)\n",
    "    fileName = \"\""
   ]
  },
  {
   "cell_type": "code",
   "execution_count": 123,
   "id": "5590621f-df95-4dd5-b2e4-eff87a3f4e3e",
   "metadata": {},
   "outputs": [],
   "source": [
    "#Load file from existing file\n",
    "def loadData():\n",
    "    #TODO Verify with test data\n",
    "    print(\"Load data\")\n",
    "    fileName = path.split(\"/\")[-1]\n",
    "    file_df = pd.read_hdf(path, key=\"files\", append = True)\n",
    "    tag_df = pd.read_hdf(path, key=\"tags\", append = True)\n",
    "    package_df = pd.read_hdf(path, key='packages', append = True)\n",
    "    \n",
    "    return file_df, tag_df, package_df"
   ]
  },
  {
   "cell_type": "code",
   "execution_count": 154,
   "id": "956f6530-ee28-40f9-b833-fa423d5386a1",
   "metadata": {},
   "outputs": [],
   "source": [
    "#Save data to file\n",
    "def saveData(save_path):\n",
    "    print(\"Saving data\")\n",
    "    file_df.to_hdf(save_path, key = 'files', mode='a', complib='zlib', complevel=5)\n",
    "    tag_df.to_hdf(save_path, key = 'tags', mode='a', complib='zlib', complevel=5)\n",
    "    package_df.to_hdf(save_path, key = 'packages', mode='a', complib='zlib', complevel=5)\n",
    "    print(\"Data Saved\")"
   ]
  }
 ],
 "metadata": {
  "kernelspec": {
   "display_name": "Python 3 (ipykernel)",
   "language": "python",
   "name": "python3"
  },
  "language_info": {
   "codemirror_mode": {
    "name": "ipython",
    "version": 3
   },
   "file_extension": ".py",
   "mimetype": "text/x-python",
   "name": "python",
   "nbconvert_exporter": "python",
   "pygments_lexer": "ipython3",
   "version": "3.11.9"
  }
 },
 "nbformat": 4,
 "nbformat_minor": 5
}
